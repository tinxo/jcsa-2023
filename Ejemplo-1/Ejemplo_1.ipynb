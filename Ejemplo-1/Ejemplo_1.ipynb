{
 "cells": [
  {
   "cell_type": "markdown",
   "metadata": {},
   "source": [
    "# Taller - Midiendo la performance de nuestro código - JCSA2023\n",
    "\n",
    "## Ejemplo 1\n",
    "\n",
    "Medición de tiempo de ejecución de bloques individuales de código sobre Python\n",
    "\n",
    "---\n",
    "\n",
    "Se empieza generando una función que va realizar la medición e informar el tiempo utilizado."
   ]
  },
  {
   "cell_type": "code",
   "execution_count": null,
   "metadata": {},
   "outputs": [],
   "source": [
    "# Se importa la librería básica para utilizar los timestamps\n",
    "import time\n",
    "\n",
    "def medir_tiempo(func):\n",
    "    \"\"\" Función para medir el tiempo de ejecución de otra función\n",
    "    \"\"\"\n",
    "    def wrapper(*args, **kwargs):\n",
    "        \"\"\" Función que implementa en sí la medición.\n",
    "        \"\"\"\n",
    "        # Se toma el tiempo de inicio\n",
    "        start = time.time()\n",
    "        # Se hace la ejecución de la función a evaluar\n",
    "        func(*args, **kwargs)\n",
    "        # Se toma el tiempo de finalización\n",
    "        end = time.time()\n",
    "        # Se informa el resultado\n",
    "        print(f\"Tiempo de ejecución: {(end - start) * 1000:.3f}ms\")\n",
    "    return wrapper"
   ]
  },
  {
   "cell_type": "markdown",
   "metadata": {},
   "source": [
    "Con esa función definida se puede usar un decorator (nombre de la función con un @ adelante) para que cada ver que otra función sea ejecuada pueda hacerse mediante el wrapper que va a hacer la evaluación en sí."
   ]
  },
  {
   "cell_type": "code",
   "execution_count": null,
   "metadata": {},
   "outputs": [],
   "source": [
    "# Se definen dos funciones simples para verificar que la medición funcione\n",
    "\n",
    "@medir_tiempo # Se coloca el decorator para que la función suma sea evaluada cuando sea invocada.\n",
    "def suma(num1 : int, num2 : int):\n",
    "    print(f\"Sumar {num1} + {num2}\")\n",
    "    return num1 + num2\n",
    "\n",
    "@medir_tiempo\n",
    "def multiplicar(num1 : int, num2 : int):\n",
    "    print(f\"Multiplicar {num1} x {num2}\")\n",
    "    return num1 * num2"
   ]
  },
  {
   "cell_type": "code",
   "execution_count": null,
   "metadata": {},
   "outputs": [],
   "source": [
    "# Se llama a ambas funciones\n",
    "\n",
    "suma(10, 5)\n",
    "multiplicar(6, 8)"
   ]
  },
  {
   "cell_type": "markdown",
   "metadata": {},
   "source": [
    "### Algunos ejemplos de optimización de código según buenas prácticas\n",
    "\n",
    "1. Para concatenar texto en vez de utilizar el operador de suma con el tipo str se puede utilizar el método .join()"
   ]
  },
  {
   "cell_type": "code",
   "execution_count": null,
   "metadata": {},
   "outputs": [],
   "source": [
    "@medir_tiempo # Nuevamente se marca la función para que sea evaluada\n",
    "def concatenar_mas():\n",
    "    \"\"\" Se concatena una serie de valores string con el operador '+'\n",
    "\n",
    "    Returns:\n",
    "        new (str): el resultado de la concatenación\n",
    "    \"\"\"\n",
    "    new = \"This\" + \"is\" + \"going\" + \"to\" + \"require\" + \"a\" + \"new\" + \"string\" + \"for\" + \"every\" + \"word\"\n",
    "    print(new)\n",
    "    return new\n",
    "\n",
    "@medir_tiempo\n",
    "def concatenar_join():\n",
    "    \"\"\" Se concatena una serie de valores string con el método .join()\n",
    "\n",
    "    Returns:\n",
    "        new (str): el resultado de la concatenación\n",
    "    \"\"\"\n",
    "    new = \" \".join([\"This\", \"will\", \"only\", \"create\", \"one\", \"string\", \"and\", \"we\", \"can\", \"add\", \"spaces.\"])\n",
    "    print(new)\n",
    "    return new"
   ]
  },
  {
   "cell_type": "code",
   "execution_count": null,
   "metadata": {},
   "outputs": [],
   "source": [
    "# Se llama a ambas funciones\n",
    "\n",
    "concatenar_mas()\n",
    "concatenar_join()"
   ]
  },
  {
   "cell_type": "markdown",
   "metadata": {},
   "source": [
    "2. Reemplazar una serie de if-else anidados (python no tiene select-case) por otra alternativa"
   ]
  },
  {
   "cell_type": "code",
   "execution_count": null,
   "metadata": {},
   "outputs": [],
   "source": [
    "@medir_tiempo\n",
    "def condicionales_cad(param : int):\n",
    "    \"\"\" Se evaluan tres condiciones y una por defecto para imprimir una salida.\n",
    "        Se implementa con if-elif anidados.\n",
    "\n",
    "    Args:\n",
    "        param (int): valor para corroborar la condición\n",
    "    \"\"\"\n",
    "    if (param == 1):\n",
    "        print(\"Valor igual a 1\")\n",
    "    elif (param == 2):\n",
    "        print(\"Valor igual a 2\")\n",
    "    elif (param == 3):\n",
    "        print(\"Valor igual a 3\")\n",
    "    else:\n",
    "        print(\"El valor es otro\")\n",
    "\n",
    "@medir_tiempo\n",
    "def condicionales_dict(param : int):\n",
    "    \"\"\" Se evaluan tres condiciones y una por defecto para imprimir una salida.\n",
    "        Se implementa con un diccionario.\n",
    "\n",
    "    Args:\n",
    "        param (int): _description_\n",
    "    \"\"\"\n",
    "    opciones = {\n",
    "        1 : \"Valor igual a 1\",\n",
    "        2 : \"Valor igual a 2\",\n",
    "        3 : \"Valor igual a 3\",\n",
    "    }\n",
    "    salida = opciones.get(param, \"El valor es otro\")\n",
    "    print(salida)"
   ]
  },
  {
   "cell_type": "code",
   "execution_count": null,
   "metadata": {},
   "outputs": [],
   "source": [
    "valor = 2\n",
    "condicionales_cad(valor)\n",
    "condicionales_dict(valor)"
   ]
  },
  {
   "cell_type": "markdown",
   "metadata": {},
   "source": [
    "3. Implementando algunas cuestiones propias de PEP8"
   ]
  },
  {
   "cell_type": "code",
   "execution_count": null,
   "metadata": {},
   "outputs": [],
   "source": [
    "@medir_tiempo\n",
    "def MiFuncionSuma(a, b, c, imprime = True):\n",
    "    \"\"\" Función de suma de tres operandos que no cumple con PEP8\n",
    "\n",
    "    Args:\n",
    "        a (int): operando a\n",
    "        b (int): operando a\n",
    "        c (int): operando a\n",
    "        imprime (bool, optional): definición para determinar si se imprime el resultado. El valor default es True.\n",
    "\n",
    "    Returns:\n",
    "        resultado (int): resultado de la suma.\n",
    "    \"\"\"\n",
    "    resultado=a+b+c\n",
    "    if imprime != False:\n",
    "        print(resultado)\n",
    "    return resultado\n",
    "\n",
    "@medir_tiempo\n",
    "def mi_funcion_suma(a, b, c, imprime=True):\n",
    "    \"\"\" Función de suma de tres operandos que cumple PEP8. \n",
    "\n",
    "    Args:\n",
    "        a (int): operando a\n",
    "        b (int): operando a\n",
    "        c (int): operando a\n",
    "        imprime (bool, optional): definición para determinar si se imprime el resultado. El valor default es True.\n",
    "\n",
    "    Returns:\n",
    "        resultado (int): resultado de la suma.\n",
    "    \"\"\"\n",
    "    resultado = a + b + c\n",
    "    if imprime:\n",
    "        print(resultado)\n",
    "    return resultado"
   ]
  },
  {
   "cell_type": "markdown",
   "metadata": {},
   "source": [
    "El código anterior incumple las siguientes reglas:\n",
    "\n",
    "**E251**: Uso incorrecto de espacios en imprime = True, debería ser imprime=True.  \n",
    "**E225**: Los operadores como el + deben usar espacios, A + B + C.  \n",
    "**E712**: Usar if imprime en vez de if imprime != False.  \n",
    "**E305**: Después de la declaración de una función debemos dejar dos espacios en blanco.  \n",
    "**E221**: No debemos usar tantos espacios al usar el operador = creando variables.  \n",
    "También tenemos otros problemas relacionados con cómo nombrar a funciones y variables. Las funciones y variables deben ir en *snake case*.  \n",
    "\n",
    "[Fuente](https://ellibrodepython.com/python-pep8)"
   ]
  },
  {
   "cell_type": "code",
   "execution_count": null,
   "metadata": {},
   "outputs": [],
   "source": [
    "# Se definen variables para usar como argumentos\n",
    "variable_a = 4\n",
    "variable_b = 5\n",
    "variable_c = 10\n",
    "\n",
    "# Se hace la llamada a ambas funciones\n",
    "MiFuncionSuma(variable_a, variable_b, variable_c)\n",
    "mi_funcion_suma(variable_a, variable_b, variable_c)"
   ]
  },
  {
   "cell_type": "markdown",
   "metadata": {},
   "source": [
    "4. Uso de un bucle for en vez de comprensión de listas"
   ]
  },
  {
   "cell_type": "code",
   "execution_count": null,
   "metadata": {},
   "outputs": [],
   "source": [
    "UN_MILLON = list(range(1_000_000))\n",
    "\n",
    "@medir_tiempo\n",
    "def filtro_con_for():\n",
    "    \"\"\" Se ejecuta la creación de una lista mediante un filtro con un bucle for.\n",
    "\n",
    "    Returns:\n",
    "        salida (list): la lista de elementos generada.\n",
    "    \"\"\"\n",
    "    salida = []\n",
    "    for elemento in UN_MILLON:\n",
    "        if not elemento % 2:\n",
    "            salida.append(elemento)\n",
    "    return salida\n",
    "\n",
    "@medir_tiempo\n",
    "def filtro_con_list_comprehension():\n",
    "    \"\"\" Se ejecuta la creación de una lista mediante un filtro con una compresión.\n",
    "\n",
    "    Returns:\n",
    "        (list): la lista de elementos generada.\n",
    "    \"\"\"\n",
    "    return [elemento for elemento in UN_MILLON if not elemento % 2]\n",
    "\n",
    "@medir_tiempo\n",
    "def filter_return_list():\n",
    "    \"\"\" Se ejecuta la creación de una lista mediante una función lambda y el método filter.\n",
    "\n",
    "    Returns:\n",
    "        (list): la lista de elementos generada.\n",
    "    \"\"\"\n",
    "    return list(filter(lambda x: not x % 2, UN_MILLON))"
   ]
  },
  {
   "cell_type": "code",
   "execution_count": null,
   "metadata": {},
   "outputs": [],
   "source": [
    "filtro_con_for()\n",
    "filtro_con_list_comprehension()\n",
    "filter_return_list()"
   ]
  },
  {
   "cell_type": "markdown",
   "metadata": {},
   "source": [
    "5. Probando con otras cuestiones como es la lectura de un dataset con pandas en diferentes formatos"
   ]
  },
  {
   "cell_type": "code",
   "execution_count": null,
   "metadata": {},
   "outputs": [],
   "source": [
    "import pandas as pd\n",
    "import pyarrow as pa\n",
    "\n",
    "@medir_tiempo\n",
    "def lectura_csv(path):\n",
    "    \"\"\" Instanciar un dataframe desde un archivo .csv\n",
    "\n",
    "    Args:\n",
    "        path (str): ubicación del archivo fuente.\n",
    "    \"\"\"\n",
    "    df = pd.read_csv(path)\n",
    "    df.head(5)\n",
    "\n",
    "@medir_tiempo\n",
    "def lectura_parquet(path):\n",
    "    \"\"\" Instanciar un dataframe desde un archivo .parquet\n",
    "\n",
    "    Args:\n",
    "        path (str): ubicación del archivo fuente.\n",
    "    \"\"\"\n",
    "    df = pd.read_parquet(path)\n",
    "    df.head(5)"
   ]
  },
  {
   "cell_type": "code",
   "execution_count": null,
   "metadata": {},
   "outputs": [],
   "source": [
    "csv_creditos = \"../data/datos_creditos.csv\"\n",
    "csv_tarjetas = \"../data/datos_tarjetas.csv\"\n",
    "\n",
    "pqt_creditos = \"../data/datos_creditos.parquet\"\n",
    "pqt_tarjetas = \"../data/datos_tarjetas.parquet\"\n",
    "\n",
    "lectura_csv(csv_creditos)\n",
    "lectura_parquet(pqt_creditos)\n",
    "print(\"-\"*20)\n",
    "lectura_csv(csv_tarjetas)\n",
    "lectura_parquet(pqt_tarjetas)"
   ]
  }
 ],
 "metadata": {
  "kernelspec": {
   "display_name": "data",
   "language": "python",
   "name": "python3"
  },
  "language_info": {
   "codemirror_mode": {
    "name": "ipython",
    "version": 3
   },
   "file_extension": ".py",
   "mimetype": "text/x-python",
   "name": "python",
   "nbconvert_exporter": "python",
   "pygments_lexer": "ipython3",
   "version": "3.10.13"
  }
 },
 "nbformat": 4,
 "nbformat_minor": 2
}
