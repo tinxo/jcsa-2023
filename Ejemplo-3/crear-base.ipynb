{
 "cells": [
  {
   "cell_type": "markdown",
   "metadata": {},
   "source": [
    "# Taller - Midiendo la performance de nuestro código - JCSA2023\n",
    "\n",
    "## Ejemplo 3\n",
    "\n",
    "Uso de una herramienta para evaluar rendimineto de consultas SQL.\n",
    "\n",
    "---\n",
    "\n",
    "En esta libreta se incluye el código para generar las tablas de la base de datos y la carga de datos."
   ]
  },
  {
   "cell_type": "code",
   "execution_count": 7,
   "metadata": {},
   "outputs": [
    {
     "name": "stdout",
     "output_type": "stream",
     "text": [
      "CREATE TABLE \"creditos\" (\n",
      "\"id_cliente\" REAL,\n",
      "  \"edad\" INTEGER,\n",
      "  \"importe_solicitado\" INTEGER,\n",
      "  \"duracion_credito\" INTEGER,\n",
      "  \"antiguedad_empleado\" REAL,\n",
      "  \"situacion_vivienda\" TEXT,\n",
      "  \"ingresos\" INTEGER,\n",
      "  \"objetivo_credito\" TEXT,\n",
      "  \"pct_ingreso\" REAL,\n",
      "  \"tasa_interes\" REAL,\n",
      "  \"estado_credito\" INTEGER,\n",
      "  \"falta_pago\" TEXT\n",
      ");\n",
      "CREATE TABLE \"tarjetas\" (\n",
      "\"id_cliente\" REAL,\n",
      "  \"antiguedad_cliente\" REAL,\n",
      "  \"estado_civil\" TEXT,\n",
      "  \"estado_cliente\" TEXT,\n",
      "  \"gastos_ult_12m\" REAL,\n",
      "  \"genero\" TEXT,\n",
      "  \"limite_credito_tc\" REAL,\n",
      "  \"nivel_educativo\" TEXT,\n",
      "  \"nivel_tarjeta\" TEXT,\n",
      "  \"operaciones_ult_12m\" REAL,\n",
      "  \"personas_a_cargo\" REAL\n",
      ");\n"
     ]
    }
   ],
   "source": [
    "# Se hace la lectura de los datasets y se obtiene la estructura de las tablas\n",
    "\n",
    "import pandas as pd\n",
    "\n",
    "df_creditos = pd.read_parquet(\"../data/datos_creditos.parquet\")\n",
    "\n",
    "sql_ddl_creditos =  pd.io.sql.get_schema(name='creditos', frame=df_creditos)\n",
    "print(sql_ddl_creditos + ';')\n",
    "\n",
    "df_tarjetas = pd.read_parquet(\"../data/datos_tarjetas.parquet\")\n",
    "\n",
    "sql_ddl_tarjetas =  pd.io.sql.get_schema(name='tarjetas', frame=df_tarjetas)\n",
    "print(sql_ddl_tarjetas + ';')"
   ]
  },
  {
   "cell_type": "code",
   "execution_count": 11,
   "metadata": {},
   "outputs": [
    {
     "data": {
      "text/plain": [
       "127"
      ]
     },
     "execution_count": 11,
     "metadata": {},
     "output_type": "execute_result"
    }
   ],
   "source": [
    "# Se hace la carga de los datos\n",
    "\n",
    "from sqlalchemy import create_engine\n",
    "\n",
    "# Se establecen los valores de las credenciales para la conexión\n",
    "user = 'postgres'\n",
    "password = 'jcsa2023'\n",
    "host = 'localhost'\n",
    "port = '5432'\n",
    "database = 'taller_jcsa'\n",
    "\n",
    "# Se instancia la conexión\n",
    "engine = create_engine(f'postgresql://{user}:{password}@{host}:{port}/{database}')\n",
    "\n",
    "# Se establece el nombre de la tabla\n",
    "tabla_creditos = 'creditos'\n",
    "tabla_tarjetas = 'tarjetas'\n",
    "\n",
    "# Se hace la carga de los datos\n",
    "df_creditos.to_sql(tabla_creditos, engine, if_exists='append', index=False)\n",
    "df_tarjetas.to_sql(tabla_tarjetas, engine, if_exists='append', index=False)"
   ]
  }
 ],
 "metadata": {
  "kernelspec": {
   "display_name": "data",
   "language": "python",
   "name": "python3"
  },
  "language_info": {
   "codemirror_mode": {
    "name": "ipython",
    "version": 3
   },
   "file_extension": ".py",
   "mimetype": "text/x-python",
   "name": "python",
   "nbconvert_exporter": "python",
   "pygments_lexer": "ipython3",
   "version": "3.10.13"
  }
 },
 "nbformat": 4,
 "nbformat_minor": 2
}
